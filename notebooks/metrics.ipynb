{
 "cells": [
  {
   "cell_type": "code",
   "execution_count": 23,
   "metadata": {},
   "outputs": [],
   "source": [
    "from sklearn.metrics import mean_squared_error\n",
    "import numpy as np\n",
    "import os\n",
    "from skimage.color import rgb2lab\n",
    "from colorization.colorizers import *"
   ]
  },
  {
   "cell_type": "code",
   "execution_count": 3,
   "metadata": {},
   "outputs": [],
   "source": [
    "og_files = os.listdir(\"../data/test_colored_normal/\")\n",
    "eccv_colorised = os.listdir(\"../data/eccv_color/\")\n",
    "siggraph_colorised = os.listdir(\"../data/siggraph_color/\")\n",
    "wgan_colorised = os.listdir(\"../data/wgan_colorized/\")"
   ]
  },
  {
   "cell_type": "code",
   "execution_count": 62,
   "metadata": {},
   "outputs": [],
   "source": [
    "# Firstly, try to calculate MSE for original and colorized images\n",
    "def calculate_mse(original_images, predicted_images):\n",
    "    original_images = original_images.astype('float32')\n",
    "    predicted_images = predicted_images.astype('float32')\n",
    "    \n",
    "    mse = mean_squared_error(original_images.flatten(), predicted_images.flatten())\n",
    "    return mse\n",
    "\n",
    "# Now we can use CIE76 metric, which calculates the difference between images in LAB format.\n",
    "def cie76_color_difference(color1, color2):\n",
    "    \"\"\"\n",
    "    Calculate CIE76 color difference between two colors.\n",
    "\n",
    "    Parameters:\n",
    "    - color1, color2: Tuple or list of three values representing Lab color coordinates (L, a, b).\n",
    "\n",
    "    Returns:\n",
    "    - Delta E (float): CIE76 color difference.\n",
    "    \"\"\"\n",
    "    L1, a1, b1 = color1\n",
    "    L2, a2, b2 = color2\n",
    "\n",
    "    delta_L = L2 - L1\n",
    "    delta_a = a2 - a1\n",
    "    delta_b = b2 - b1\n",
    "\n",
    "    delta_E = np.mean(np.sqrt(delta_L**2 + delta_a**2 + delta_b**2))\n",
    "    # print(delta_L)\n",
    "\n",
    "    return delta_E"
   ]
  },
  {
   "cell_type": "markdown",
   "metadata": {},
   "source": [
    "### MSE Calculations:"
   ]
  },
  {
   "cell_type": "code",
   "execution_count": 13,
   "metadata": {},
   "outputs": [],
   "source": [
    "original_pictures = []\n",
    "for address in og_files:\n",
    "    original_pictures.append(load_img(f\"../data/test_colored_normal/{address}\"))\n",
    "original_pictures = np.array(original_pictures)/255"
   ]
  },
  {
   "cell_type": "code",
   "execution_count": 14,
   "metadata": {},
   "outputs": [],
   "source": [
    "eccv_pictures = []\n",
    "for address in eccv_colorised:\n",
    "    eccv_pictures.append(load_img(f\"../data/eccv_color/{address}\"))\n",
    "eccv_pictures = np.array(eccv_pictures)/255"
   ]
  },
  {
   "cell_type": "code",
   "execution_count": 15,
   "metadata": {},
   "outputs": [
    {
     "name": "stdout",
     "output_type": "stream",
     "text": [
      "MSE: 0.011728133074939251\n"
     ]
    }
   ],
   "source": [
    "mse = calculate_mse(original_pictures, eccv_pictures)\n",
    "print(f'MSE: {mse}')"
   ]
  },
  {
   "cell_type": "code",
   "execution_count": 16,
   "metadata": {},
   "outputs": [],
   "source": [
    "del eccv_pictures"
   ]
  },
  {
   "cell_type": "code",
   "execution_count": 17,
   "metadata": {},
   "outputs": [],
   "source": [
    "siggraph_pictures = []\n",
    "for address in siggraph_colorised:\n",
    "    siggraph_pictures.append(load_img(f\"../data/siggraph_color/{address}\"))\n",
    "siggraph_pictures = np.array(siggraph_pictures)/255"
   ]
  },
  {
   "cell_type": "code",
   "execution_count": 18,
   "metadata": {},
   "outputs": [
    {
     "name": "stdout",
     "output_type": "stream",
     "text": [
      "MSE: 0.010558483190834522\n"
     ]
    }
   ],
   "source": [
    "mse = calculate_mse(original_pictures, siggraph_pictures)\n",
    "print(f'MSE: {mse}')"
   ]
  },
  {
   "cell_type": "code",
   "execution_count": 19,
   "metadata": {},
   "outputs": [],
   "source": [
    "del siggraph_pictures"
   ]
  },
  {
   "cell_type": "code",
   "execution_count": 21,
   "metadata": {},
   "outputs": [],
   "source": [
    "wgan_pictures = []\n",
    "for address in wgan_colorised:\n",
    "    wgan_pictures.append(load_img(f\"../data/wgan_colorized/{address}\"))\n",
    "wgan_pictures = np.array(wgan_pictures)/255"
   ]
  },
  {
   "cell_type": "code",
   "execution_count": 22,
   "metadata": {},
   "outputs": [
    {
     "name": "stdout",
     "output_type": "stream",
     "text": [
      "MSE: 0.3865128755569458\n"
     ]
    }
   ],
   "source": [
    "mse = calculate_mse(original_pictures, wgan_pictures)\n",
    "print(f'MSE: {mse}')"
   ]
  },
  {
   "cell_type": "code",
   "execution_count": 74,
   "metadata": {},
   "outputs": [],
   "source": [
    "del wgan_pictures"
   ]
  },
  {
   "cell_type": "code",
   "execution_count": 75,
   "metadata": {},
   "outputs": [],
   "source": [
    "del original_pictures"
   ]
  },
  {
   "cell_type": "markdown",
   "metadata": {},
   "source": [
    "### CIE76 Calculations:"
   ]
  },
  {
   "cell_type": "code",
   "execution_count": 70,
   "metadata": {},
   "outputs": [],
   "source": [
    "original_pictures_lab = []\n",
    "for address in og_files:\n",
    "    lab_pic = rgb2lab(load_img(f\"../data/test_colored_normal/{address}\"))\n",
    "     # Normalize L channel\n",
    "    lab_pic[:, :, 0] /= 100.0\n",
    "    \n",
    "    # Normalize a and b channels\n",
    "    lab_pic[:, :, 1:] = (lab_pic[:, :, 1:] - 128.0) / 127.0\n",
    "    lab_picture = [lab_pic[:, :, 0], lab_pic[:, :, 1], lab_pic[:, :, 2]]\n",
    "    original_pictures_lab.append(lab_picture)\n",
    "original_pictures_lab = np.array(original_pictures_lab)"
   ]
  },
  {
   "cell_type": "code",
   "execution_count": 77,
   "metadata": {},
   "outputs": [],
   "source": [
    "eccv_pictures_lab = []\n",
    "for address in eccv_colorised:\n",
    "    lab_pic = rgb2lab(load_img(f\"../data/eccv_color/{address}\"))\n",
    "     # Normalize L channel\n",
    "    lab_pic[:, :, 0] /= 100.0\n",
    "    \n",
    "    # Normalize a and b channels\n",
    "    lab_pic[:, :, 1:] = (lab_pic[:, :, 1:] - 128.0) / 127.0\n",
    "    lab_picture = [lab_pic[:, :, 0], lab_pic[:, :, 1], lab_pic[:, :, 2]]\n",
    "    eccv_pictures_lab.append(lab_picture)\n",
    "eccv_pictures_lab = np.array(eccv_pictures_lab)"
   ]
  },
  {
   "cell_type": "code",
   "execution_count": 78,
   "metadata": {},
   "outputs": [
    {
     "data": {
      "text/plain": [
       "0"
      ]
     },
     "execution_count": 78,
     "metadata": {},
     "output_type": "execute_result"
    }
   ],
   "source": [
    "import gc\n",
    "\n",
    "gc.collect()"
   ]
  },
  {
   "cell_type": "code",
   "execution_count": 79,
   "metadata": {},
   "outputs": [
    {
     "name": "stdout",
     "output_type": "stream",
     "text": [
      "CIE76: 0.1551012435610756\n"
     ]
    }
   ],
   "source": [
    "diff = 0\n",
    "for orig, pred in zip(original_pictures_lab, eccv_pictures_lab):\n",
    "    diff += cie76_color_difference(orig, pred)\n",
    "print(f\"CIE76: {diff / original_pictures_lab.shape[0]}\")"
   ]
  },
  {
   "cell_type": "code",
   "execution_count": 80,
   "metadata": {},
   "outputs": [],
   "source": [
    "del eccv_pictures_lab"
   ]
  },
  {
   "cell_type": "code",
   "execution_count": 81,
   "metadata": {},
   "outputs": [],
   "source": [
    "siggraph_pictures_lab = []\n",
    "for address in siggraph_colorised:\n",
    "    lab_pic = rgb2lab(load_img(f\"../data/siggraph_color/{address}\"))\n",
    "     # Normalize L channel\n",
    "    lab_pic[:, :, 0] /= 100.0\n",
    "    \n",
    "    # Normalize a and b channels\n",
    "    lab_pic[:, :, 1:] = (lab_pic[:, :, 1:] - 128.0) / 127.0\n",
    "    lab_picture = [lab_pic[:, :, 0], lab_pic[:, :, 1], lab_pic[:, :, 2]]\n",
    "    siggraph_pictures_lab.append(lab_picture)\n",
    "siggraph_pictures_lab = np.array(siggraph_pictures_lab)"
   ]
  },
  {
   "cell_type": "code",
   "execution_count": 82,
   "metadata": {},
   "outputs": [
    {
     "name": "stdout",
     "output_type": "stream",
     "text": [
      "CIE76: 0.12971148948659114\n"
     ]
    }
   ],
   "source": [
    "diff = 0\n",
    "for orig, pred in zip(original_pictures_lab, siggraph_pictures_lab):\n",
    "    diff += cie76_color_difference(orig, pred)\n",
    "print(f\"CIE76: {diff / original_pictures_lab.shape[0]}\")"
   ]
  },
  {
   "cell_type": "code",
   "execution_count": 83,
   "metadata": {},
   "outputs": [],
   "source": [
    "del siggraph_pictures_lab"
   ]
  },
  {
   "cell_type": "code",
   "execution_count": 84,
   "metadata": {},
   "outputs": [],
   "source": [
    "cwgan_pictures_lab = []\n",
    "for address in wgan_colorised:\n",
    "    lab_pic = rgb2lab(load_img(f\"../data/wgan_colorized/{address}\"))\n",
    "     # Normalize L channel\n",
    "    lab_pic[:, :, 0] /= 100.0\n",
    "    \n",
    "    # Normalize a and b channels\n",
    "    lab_pic[:, :, 1:] = (lab_pic[:, :, 1:] - 128.0) / 127.0\n",
    "    lab_picture = [lab_pic[:, :, 0], lab_pic[:, :, 1], lab_pic[:, :, 2]]\n",
    "    cwgan_pictures_lab.append(lab_picture)\n",
    "cwgan_pictures_lab = np.array(cwgan_pictures_lab)"
   ]
  },
  {
   "cell_type": "code",
   "execution_count": 85,
   "metadata": {},
   "outputs": [
    {
     "name": "stdout",
     "output_type": "stream",
     "text": [
      "CIE76: 0.5966104838427498\n"
     ]
    }
   ],
   "source": [
    "diff = 0\n",
    "for orig, pred in zip(original_pictures_lab, cwgan_pictures_lab):\n",
    "    diff += cie76_color_difference(orig, pred)\n",
    "print(f\"CIE76: {diff / original_pictures_lab.shape[0]}\")"
   ]
  }
 ],
 "metadata": {
  "kernelspec": {
   "display_name": "Python 3",
   "language": "python",
   "name": "python3"
  },
  "language_info": {
   "codemirror_mode": {
    "name": "ipython",
    "version": 3
   },
   "file_extension": ".py",
   "mimetype": "text/x-python",
   "name": "python",
   "nbconvert_exporter": "python",
   "pygments_lexer": "ipython3",
   "version": "3.11.2"
  }
 },
 "nbformat": 4,
 "nbformat_minor": 2
}
